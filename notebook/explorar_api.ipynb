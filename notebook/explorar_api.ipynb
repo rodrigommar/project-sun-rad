{
 "cells": [
  {
   "cell_type": "markdown",
   "metadata": {},
   "source": [
    "# Explorando o uso API\n",
    "### Recuperar estações automáticas (T)\n",
    " \n",
    "Recuperar todas estações de acordo com o tipo passado como parâmetro:<br>\n",
    "**Estações Automáticas**:** https://apitempo.inmet.gov.br/estacoes/T\n",
    "\n",
    "estações automaticas = T\n",
    "\n"
   ]
  },
  {
   "cell_type": "code",
   "execution_count": 2,
   "metadata": {},
   "outputs": [],
   "source": [
    "import requests\n",
    "\n",
    "url_base = 'https://apitempo.inmet.gov.br'\n",
    "url_estacoes_automaticas = 'estacoes/T'\n",
    "url = f'{url_base}/{url_estacoes_automaticas}'\n",
    "\n",
    "reponse = requests.get(url)\n",
    "\n",
    "if reponse.status_code == 200:\n",
    "    estacoes_automaticas = reponse.json()"
   ]
  },
  {
   "cell_type": "code",
   "execution_count": 3,
   "metadata": {},
   "outputs": [
    {
     "data": {
      "text/plain": [
       "[{'CD_OSCAR': '0-2000-0-86765',\n",
       "  'DC_NOME': 'ABROLHOS',\n",
       "  'FL_CAPITAL': 'N',\n",
       "  'DT_FIM_OPERACAO': None,\n",
       "  'CD_SITUACAO': 'Pane',\n",
       "  'TP_ESTACAO': 'Automatica',\n",
       "  'VL_LATITUDE': '-17.96305555',\n",
       "  'CD_WSI': '0-76-0-2906907000000408',\n",
       "  'CD_DISTRITO': ' 04',\n",
       "  'VL_ALTITUDE': '20.93',\n",
       "  'SG_ESTADO': 'BA',\n",
       "  'SG_ENTIDADE': 'INMET',\n",
       "  'CD_ESTACAO': 'A422',\n",
       "  'VL_LONGITUDE': '-38.70333333',\n",
       "  'DT_INICIO_OPERACAO': '2008-07-20T21:00:00.000-03:00'}]"
      ]
     },
     "execution_count": 3,
     "metadata": {},
     "output_type": "execute_result"
    }
   ],
   "source": [
    "estacoes_automaticas[:1]"
   ]
  },
  {
   "cell_type": "markdown",
   "metadata": {},
   "source": [
    "### Estações Automaticas <br>Salvando dados em um arquivo JSON"
   ]
  },
  {
   "cell_type": "code",
   "execution_count": 4,
   "metadata": {},
   "outputs": [],
   "source": [
    "import json\n",
    "\n",
    "json_str = json.dumps(estacoes_automaticas)\n",
    "\n",
    "with open('../data/estacoes_automaticas.json', 'w') as file:\n",
    "    file.write(json_str)"
   ]
  },
  {
   "cell_type": "markdown",
   "metadata": {},
   "source": [
    "### Estações Automaticas <br> Ler arquivo json usando context_mananager"
   ]
  },
  {
   "cell_type": "code",
   "execution_count": 5,
   "metadata": {},
   "outputs": [],
   "source": [
    "with open('../data/estacoes_automaticas.json', 'r') as file:\n",
    "    #dados_json = file.read()\n",
    "    dados_json_estacoes_automatica = json.load(file)"
   ]
  },
  {
   "cell_type": "code",
   "execution_count": 6,
   "metadata": {},
   "outputs": [
    {
     "data": {
      "text/plain": [
       "{'CD_OSCAR': '0-2000-0-86765',\n",
       " 'DC_NOME': 'ABROLHOS',\n",
       " 'FL_CAPITAL': 'N',\n",
       " 'DT_FIM_OPERACAO': None,\n",
       " 'CD_SITUACAO': 'Pane',\n",
       " 'TP_ESTACAO': 'Automatica',\n",
       " 'VL_LATITUDE': '-17.96305555',\n",
       " 'CD_WSI': '0-76-0-2906907000000408',\n",
       " 'CD_DISTRITO': ' 04',\n",
       " 'VL_ALTITUDE': '20.93',\n",
       " 'SG_ESTADO': 'BA',\n",
       " 'SG_ENTIDADE': 'INMET',\n",
       " 'CD_ESTACAO': 'A422',\n",
       " 'VL_LONGITUDE': '-38.70333333',\n",
       " 'DT_INICIO_OPERACAO': '2008-07-20T21:00:00.000-03:00'}"
      ]
     },
     "execution_count": 6,
     "metadata": {},
     "output_type": "execute_result"
    }
   ],
   "source": [
    "\n",
    "dados_json_estacoes_automatica[0]"
   ]
  },
  {
   "cell_type": "markdown",
   "metadata": {},
   "source": [
    "### Recuperar estações convencionais (M)\n",
    "\n",
    "**Estações Manuais:** https://apitempo.inmet.gov.br/estacoes/M<br>\n",
    "estações convencionais = M"
   ]
  },
  {
   "cell_type": "code",
   "execution_count": 7,
   "metadata": {},
   "outputs": [],
   "source": [
    "\n",
    "import requests\n",
    "\n",
    "url_base = 'https://apitempo.inmet.gov.br'\n",
    "url_estacoes_automaticas = 'estacoes/M'\n",
    "url = f'{url_base}/{url_estacoes_automaticas}'\n",
    "\n",
    "reponse = requests.get(url)\n",
    "\n",
    "if reponse.status_code == 200:\n",
    "    estacoes_manuais = reponse.json()"
   ]
  },
  {
   "cell_type": "code",
   "execution_count": 8,
   "metadata": {},
   "outputs": [
    {
     "data": {
      "text/plain": [
       "[{'CD_OSCAR': '0-2000-0-82989',\n",
       "  'DC_NOME': 'AGUA BRANCA',\n",
       "  'FL_CAPITAL': 'N',\n",
       "  'DT_FIM_OPERACAO': None,\n",
       "  'CD_SITUACAO': 'Operante',\n",
       "  'TP_ESTACAO': 'Convencional',\n",
       "  'VL_LATITUDE': '-9.26472222',\n",
       "  'CD_WSI': '0-76-0-2700102000W82989',\n",
       "  'CD_DISTRITO': ' 03',\n",
       "  'VL_ALTITUDE': '603.42',\n",
       "  'SG_ESTADO': 'AL',\n",
       "  'SG_ENTIDADE': 'INMET',\n",
       "  'CD_ESTACAO': '82989',\n",
       "  'VL_LONGITUDE': '-37.93805555',\n",
       "  'DT_INICIO_OPERACAO': '1928-05-04T21:00:00.000-03:00'}]"
      ]
     },
     "execution_count": 8,
     "metadata": {},
     "output_type": "execute_result"
    }
   ],
   "source": [
    "estacoes_manuais[:1]\n"
   ]
  },
  {
   "cell_type": "markdown",
   "metadata": {},
   "source": [
    "### Estações Convencionais: <br> Salvando dados em um arquivo JSON"
   ]
  },
  {
   "cell_type": "code",
   "execution_count": 9,
   "metadata": {},
   "outputs": [],
   "source": [
    "import json\n",
    "\n",
    "json_str = json.dumps(estacoes_manuais)\n",
    "\n",
    "with open('../data/estacoes_manuais.json', 'w') as file:\n",
    "    file.write(json_str)"
   ]
  },
  {
   "cell_type": "markdown",
   "metadata": {},
   "source": [
    "### Estações Convencionais: <br> Ler arquivo json usando context_mananager"
   ]
  },
  {
   "cell_type": "code",
   "execution_count": 10,
   "metadata": {},
   "outputs": [],
   "source": [
    "with open('../data/estacoes_manuais.json', 'r') as file:\n",
    "\n",
    "    dados_json_estacoes_manual = json.load(file)\n",
    "    "
   ]
  },
  {
   "cell_type": "code",
   "execution_count": 11,
   "metadata": {},
   "outputs": [
    {
     "data": {
      "text/plain": [
       "{'CD_OSCAR': '0-2000-0-82989',\n",
       " 'DC_NOME': 'AGUA BRANCA',\n",
       " 'FL_CAPITAL': 'N',\n",
       " 'DT_FIM_OPERACAO': None,\n",
       " 'CD_SITUACAO': 'Operante',\n",
       " 'TP_ESTACAO': 'Convencional',\n",
       " 'VL_LATITUDE': '-9.26472222',\n",
       " 'CD_WSI': '0-76-0-2700102000W82989',\n",
       " 'CD_DISTRITO': ' 03',\n",
       " 'VL_ALTITUDE': '603.42',\n",
       " 'SG_ESTADO': 'AL',\n",
       " 'SG_ENTIDADE': 'INMET',\n",
       " 'CD_ESTACAO': '82989',\n",
       " 'VL_LONGITUDE': '-37.93805555',\n",
       " 'DT_INICIO_OPERACAO': '1928-05-04T21:00:00.000-03:00'}"
      ]
     },
     "execution_count": 11,
     "metadata": {},
     "output_type": "execute_result"
    }
   ],
   "source": [
    "dados_json_estacoes_manual[0]"
   ]
  },
  {
   "cell_type": "markdown",
   "metadata": {},
   "source": [
    "### Concatenar os arquivos das estações convencionais e automaticas, e em seguida salva num arquivo json"
   ]
  },
  {
   "cell_type": "code",
   "execution_count": 12,
   "metadata": {},
   "outputs": [],
   "source": [
    "todas_estacoes = []\n",
    "todas_estacoes.extend(dados_json_estacoes_automatica)\n",
    "todas_estacoes.extend(dados_json_estacoes_manual)"
   ]
  },
  {
   "cell_type": "code",
   "execution_count": 13,
   "metadata": {},
   "outputs": [
    {
     "name": "stdout",
     "output_type": "stream",
     "text": [
      "Estacoes automaticas =  567\n",
      "Estacoes manuais =  147\n",
      "Total de estações =  714\n"
     ]
    }
   ],
   "source": [
    "print('Estacoes automaticas = ', len(dados_json_estacoes_automatica))\n",
    "print('Estacoes manuais = ',len(dados_json_estacoes_manual))\n",
    "print('Total de estações = ' ,len(todas_estacoes))"
   ]
  },
  {
   "cell_type": "code",
   "execution_count": 14,
   "metadata": {},
   "outputs": [],
   "source": [
    "import json\n",
    "\n",
    "json_str = json.dumps(todas_estacoes)\n",
    "\n",
    "with open('../data/todas_estacoes.json', 'w') as file:    \n",
    "    file.write(json_str)\n",
    "    "
   ]
  },
  {
   "cell_type": "markdown",
   "metadata": {},
   "source": [
    "# DATAFRAME :<br> Gera um dataframe de todas as estações"
   ]
  },
  {
   "cell_type": "code",
   "execution_count": 15,
   "metadata": {},
   "outputs": [],
   "source": [
    "import pandas as pd"
   ]
  },
  {
   "cell_type": "code",
   "execution_count": 51,
   "metadata": {},
   "outputs": [],
   "source": [
    "df = pd.read_json('../data/todas_estacoes.json')"
   ]
  },
  {
   "cell_type": "code",
   "execution_count": 52,
   "metadata": {},
   "outputs": [
    {
     "name": "stdout",
     "output_type": "stream",
     "text": [
      "<class 'pandas.core.frame.DataFrame'>\n",
      "RangeIndex: 714 entries, 0 to 713\n",
      "Data columns (total 15 columns):\n",
      " #   Column              Non-Null Count  Dtype  \n",
      "---  ------              --------------  -----  \n",
      " 0   CD_OSCAR            712 non-null    object \n",
      " 1   DC_NOME             714 non-null    object \n",
      " 2   FL_CAPITAL          603 non-null    object \n",
      " 3   DT_FIM_OPERACAO     0 non-null      float64\n",
      " 4   CD_SITUACAO         714 non-null    object \n",
      " 5   TP_ESTACAO          714 non-null    object \n",
      " 6   VL_LATITUDE         714 non-null    float64\n",
      " 7   CD_WSI              712 non-null    object \n",
      " 8   CD_DISTRITO         714 non-null    int64  \n",
      " 9   VL_ALTITUDE         714 non-null    float64\n",
      " 10  SG_ESTADO           714 non-null    object \n",
      " 11  SG_ENTIDADE         714 non-null    object \n",
      " 12  CD_ESTACAO          714 non-null    object \n",
      " 13  VL_LONGITUDE        714 non-null    float64\n",
      " 14  DT_INICIO_OPERACAO  714 non-null    object \n",
      "dtypes: float64(4), int64(1), object(10)\n",
      "memory usage: 83.8+ KB\n"
     ]
    }
   ],
   "source": [
    "df.info()"
   ]
  },
  {
   "cell_type": "markdown",
   "metadata": {},
   "source": [
    "### Descrição das colunas\n",
    "\n",
    "**CD_OSCAR** : 'Código internacionalmente reconhecido para a estação meteorológica'  \n",
    "**DC_NOME** : 'Nome da estação meteorológica'  \n",
    "**FL_CAPITAL** : 'Indicação se a estação é a capital do estado (\"S\" para sim, \"N\" para não)'  \n",
    "**DT_FIM_OPERACAO** : 'Data de encerramento das operações da estação (pode ser nulo se ainda estiver em operação)'  \n",
    "**CD_SITUACAO** : 'Situação atual da estação meteorológica (por exemplo, \"Pane\")'  \n",
    "**TP_ESTACAO** : 'Tipo da estação meteorológica (por exemplo, \"Automática\")'  \n",
    "**VL_LATITUDE** : 'Valor da latitude geográfica da estação'  \n",
    "**CD_WSI** : 'Código único atribuído pela WSI (Weather Services International)'  \n",
    "**CD_DISTRITO** : 'Código do distrito ao qual a estação pertence'  \n",
    "**VL_ALTITUDE** : 'Altitude da estação meteorológica'  \n",
    "**SG_ESTADO** : 'Sigla do estado onde a estação está localizada'  \n",
    "**SG_ENTIDADE** : 'Sigla da entidade responsável pela estação meteorológica (por exemplo, \"INMET\")'  \n",
    "**CD_ESTACAO** : 'Código único atribuído à estação'  \n",
    "**VL_LONGITUDE** : 'Valor da longitude geográfica da estação'  \n",
    "**DT_INICIO_OPERACAO** : 'Data de início das operações da estação meteorológica'  \n"
   ]
  },
  {
   "cell_type": "code",
   "execution_count": 53,
   "metadata": {},
   "outputs": [
    {
     "data": {
      "text/html": [
       "<div>\n",
       "<style scoped>\n",
       "    .dataframe tbody tr th:only-of-type {\n",
       "        vertical-align: middle;\n",
       "    }\n",
       "\n",
       "    .dataframe tbody tr th {\n",
       "        vertical-align: top;\n",
       "    }\n",
       "\n",
       "    .dataframe thead th {\n",
       "        text-align: right;\n",
       "    }\n",
       "</style>\n",
       "<table border=\"1\" class=\"dataframe\">\n",
       "  <thead>\n",
       "    <tr style=\"text-align: right;\">\n",
       "      <th></th>\n",
       "      <th>CD_OSCAR</th>\n",
       "      <th>DC_NOME</th>\n",
       "      <th>FL_CAPITAL</th>\n",
       "      <th>DT_FIM_OPERACAO</th>\n",
       "      <th>CD_SITUACAO</th>\n",
       "      <th>TP_ESTACAO</th>\n",
       "      <th>VL_LATITUDE</th>\n",
       "      <th>CD_WSI</th>\n",
       "      <th>CD_DISTRITO</th>\n",
       "      <th>VL_ALTITUDE</th>\n",
       "      <th>SG_ESTADO</th>\n",
       "      <th>SG_ENTIDADE</th>\n",
       "      <th>CD_ESTACAO</th>\n",
       "      <th>VL_LONGITUDE</th>\n",
       "      <th>DT_INICIO_OPERACAO</th>\n",
       "    </tr>\n",
       "  </thead>\n",
       "  <tbody>\n",
       "    <tr>\n",
       "      <th>0</th>\n",
       "      <td>0-2000-0-86765</td>\n",
       "      <td>ABROLHOS</td>\n",
       "      <td>N</td>\n",
       "      <td>NaN</td>\n",
       "      <td>Pane</td>\n",
       "      <td>Automatica</td>\n",
       "      <td>-17.963056</td>\n",
       "      <td>0-76-0-2906907000000408</td>\n",
       "      <td>4</td>\n",
       "      <td>20.93</td>\n",
       "      <td>BA</td>\n",
       "      <td>INMET</td>\n",
       "      <td>A422</td>\n",
       "      <td>-38.703333</td>\n",
       "      <td>2008-07-20T21:00:00.000-03:00</td>\n",
       "    </tr>\n",
       "    <tr>\n",
       "      <th>1</th>\n",
       "      <td>0-2000-0-81755</td>\n",
       "      <td>ACARAU</td>\n",
       "      <td>N</td>\n",
       "      <td>NaN</td>\n",
       "      <td>Operante</td>\n",
       "      <td>Automatica</td>\n",
       "      <td>-3.121111</td>\n",
       "      <td>0-76-0-2300200000000446</td>\n",
       "      <td>3</td>\n",
       "      <td>67.15</td>\n",
       "      <td>CE</td>\n",
       "      <td>INMET</td>\n",
       "      <td>A360</td>\n",
       "      <td>-40.087222</td>\n",
       "      <td>2009-04-21T21:00:00.000-03:00</td>\n",
       "    </tr>\n",
       "    <tr>\n",
       "      <th>2</th>\n",
       "      <td>0-2000-0-86827</td>\n",
       "      <td>AFONSO CLAUDIO</td>\n",
       "      <td>None</td>\n",
       "      <td>NaN</td>\n",
       "      <td>Pane</td>\n",
       "      <td>Automatica</td>\n",
       "      <td>-20.104167</td>\n",
       "      <td>0-76-0-3200102000000478</td>\n",
       "      <td>6</td>\n",
       "      <td>507.48</td>\n",
       "      <td>ES</td>\n",
       "      <td>INMET</td>\n",
       "      <td>A657</td>\n",
       "      <td>-41.106944</td>\n",
       "      <td>2011-09-23T21:00:00.000-03:00</td>\n",
       "    </tr>\n",
       "    <tr>\n",
       "      <th>3</th>\n",
       "      <td>0-2000-0-86686</td>\n",
       "      <td>AGUA BOA</td>\n",
       "      <td>N</td>\n",
       "      <td>NaN</td>\n",
       "      <td>Operante</td>\n",
       "      <td>Automatica</td>\n",
       "      <td>-14.016389</td>\n",
       "      <td>0-76-0-5100201000000157</td>\n",
       "      <td>9</td>\n",
       "      <td>440.00</td>\n",
       "      <td>MT</td>\n",
       "      <td>INMET</td>\n",
       "      <td>A908</td>\n",
       "      <td>-52.211667</td>\n",
       "      <td>2006-12-15T21:00:00.000-03:00</td>\n",
       "    </tr>\n",
       "    <tr>\n",
       "      <th>4</th>\n",
       "      <td>0-2000-0-86812</td>\n",
       "      <td>AGUA CLARA</td>\n",
       "      <td>N</td>\n",
       "      <td>NaN</td>\n",
       "      <td>Operante</td>\n",
       "      <td>Automatica</td>\n",
       "      <td>-20.444444</td>\n",
       "      <td>0-76-0-5000203000000463</td>\n",
       "      <td>7</td>\n",
       "      <td>323.63</td>\n",
       "      <td>MS</td>\n",
       "      <td>INMET</td>\n",
       "      <td>A756</td>\n",
       "      <td>-52.875833</td>\n",
       "      <td>2010-08-13T21:00:00.000-03:00</td>\n",
       "    </tr>\n",
       "  </tbody>\n",
       "</table>\n",
       "</div>"
      ],
      "text/plain": [
       "         CD_OSCAR         DC_NOME FL_CAPITAL  DT_FIM_OPERACAO CD_SITUACAO  \\\n",
       "0  0-2000-0-86765        ABROLHOS          N              NaN        Pane   \n",
       "1  0-2000-0-81755          ACARAU          N              NaN    Operante   \n",
       "2  0-2000-0-86827  AFONSO CLAUDIO       None              NaN        Pane   \n",
       "3  0-2000-0-86686        AGUA BOA          N              NaN    Operante   \n",
       "4  0-2000-0-86812      AGUA CLARA          N              NaN    Operante   \n",
       "\n",
       "   TP_ESTACAO  VL_LATITUDE                   CD_WSI  CD_DISTRITO  VL_ALTITUDE  \\\n",
       "0  Automatica   -17.963056  0-76-0-2906907000000408            4        20.93   \n",
       "1  Automatica    -3.121111  0-76-0-2300200000000446            3        67.15   \n",
       "2  Automatica   -20.104167  0-76-0-3200102000000478            6       507.48   \n",
       "3  Automatica   -14.016389  0-76-0-5100201000000157            9       440.00   \n",
       "4  Automatica   -20.444444  0-76-0-5000203000000463            7       323.63   \n",
       "\n",
       "  SG_ESTADO SG_ENTIDADE CD_ESTACAO  VL_LONGITUDE  \\\n",
       "0        BA       INMET       A422    -38.703333   \n",
       "1        CE       INMET       A360    -40.087222   \n",
       "2        ES       INMET       A657    -41.106944   \n",
       "3        MT       INMET       A908    -52.211667   \n",
       "4        MS       INMET       A756    -52.875833   \n",
       "\n",
       "              DT_INICIO_OPERACAO  \n",
       "0  2008-07-20T21:00:00.000-03:00  \n",
       "1  2009-04-21T21:00:00.000-03:00  \n",
       "2  2011-09-23T21:00:00.000-03:00  \n",
       "3  2006-12-15T21:00:00.000-03:00  \n",
       "4  2010-08-13T21:00:00.000-03:00  "
      ]
     },
     "execution_count": 53,
     "metadata": {},
     "output_type": "execute_result"
    }
   ],
   "source": [
    "df.head()"
   ]
  },
  {
   "cell_type": "code",
   "execution_count": 54,
   "metadata": {},
   "outputs": [
    {
     "data": {
      "text/plain": [
       "CD_OSCAR                2\n",
       "DC_NOME                 0\n",
       "FL_CAPITAL            111\n",
       "DT_FIM_OPERACAO       714\n",
       "CD_SITUACAO             0\n",
       "TP_ESTACAO              0\n",
       "VL_LATITUDE             0\n",
       "CD_WSI                  2\n",
       "CD_DISTRITO             0\n",
       "VL_ALTITUDE             0\n",
       "SG_ESTADO               0\n",
       "SG_ENTIDADE             0\n",
       "CD_ESTACAO              0\n",
       "VL_LONGITUDE            0\n",
       "DT_INICIO_OPERACAO      0\n",
       "dtype: int64"
      ]
     },
     "execution_count": 54,
     "metadata": {},
     "output_type": "execute_result"
    }
   ],
   "source": [
    "df.isna().sum()"
   ]
  },
  {
   "cell_type": "code",
   "execution_count": 55,
   "metadata": {},
   "outputs": [],
   "source": [
    "# substituir os valores NaN por 0 (zero)\n",
    "\n",
    "df['DT_FIM_OPERACAO'] = df['DT_FIM_OPERACAO'].fillna(0)"
   ]
  },
  {
   "cell_type": "code",
   "execution_count": 56,
   "metadata": {},
   "outputs": [
    {
     "data": {
      "text/plain": [
       "CD_OSCAR                2\n",
       "DC_NOME                 0\n",
       "FL_CAPITAL            111\n",
       "DT_FIM_OPERACAO         0\n",
       "CD_SITUACAO             0\n",
       "TP_ESTACAO              0\n",
       "VL_LATITUDE             0\n",
       "CD_WSI                  2\n",
       "CD_DISTRITO             0\n",
       "VL_ALTITUDE             0\n",
       "SG_ESTADO               0\n",
       "SG_ENTIDADE             0\n",
       "CD_ESTACAO              0\n",
       "VL_LONGITUDE            0\n",
       "DT_INICIO_OPERACAO      0\n",
       "dtype: int64"
      ]
     },
     "execution_count": 56,
     "metadata": {},
     "output_type": "execute_result"
    }
   ],
   "source": [
    "df.isna().sum()"
   ]
  },
  {
   "cell_type": "code",
   "execution_count": 57,
   "metadata": {},
   "outputs": [
    {
     "data": {
      "text/plain": [
       "N    585\n",
       "S     18\n",
       "Name: FL_CAPITAL, dtype: int64"
      ]
     },
     "execution_count": 57,
     "metadata": {},
     "output_type": "execute_result"
    }
   ],
   "source": [
    "df['FL_CAPITAL'].value_counts()"
   ]
  },
  {
   "cell_type": "code",
   "execution_count": 58,
   "metadata": {},
   "outputs": [],
   "source": [
    "df['FL_CAPITAL'] = df['FL_CAPITAL'].fillna('N')\n"
   ]
  },
  {
   "cell_type": "code",
   "execution_count": 59,
   "metadata": {},
   "outputs": [
    {
     "data": {
      "text/plain": [
       "CD_OSCAR              2\n",
       "DC_NOME               0\n",
       "FL_CAPITAL            0\n",
       "DT_FIM_OPERACAO       0\n",
       "CD_SITUACAO           0\n",
       "TP_ESTACAO            0\n",
       "VL_LATITUDE           0\n",
       "CD_WSI                2\n",
       "CD_DISTRITO           0\n",
       "VL_ALTITUDE           0\n",
       "SG_ESTADO             0\n",
       "SG_ENTIDADE           0\n",
       "CD_ESTACAO            0\n",
       "VL_LONGITUDE          0\n",
       "DT_INICIO_OPERACAO    0\n",
       "dtype: int64"
      ]
     },
     "execution_count": 59,
     "metadata": {},
     "output_type": "execute_result"
    }
   ],
   "source": [
    "df.isna().sum()"
   ]
  },
  {
   "cell_type": "code",
   "execution_count": 61,
   "metadata": {},
   "outputs": [],
   "source": [
    "df.drop('SG_ENTIDADE', axis=1, inplace=True)"
   ]
  },
  {
   "cell_type": "code",
   "execution_count": 64,
   "metadata": {},
   "outputs": [
    {
     "data": {
      "text/html": [
       "<div>\n",
       "<style scoped>\n",
       "    .dataframe tbody tr th:only-of-type {\n",
       "        vertical-align: middle;\n",
       "    }\n",
       "\n",
       "    .dataframe tbody tr th {\n",
       "        vertical-align: top;\n",
       "    }\n",
       "\n",
       "    .dataframe thead th {\n",
       "        text-align: right;\n",
       "    }\n",
       "</style>\n",
       "<table border=\"1\" class=\"dataframe\">\n",
       "  <thead>\n",
       "    <tr style=\"text-align: right;\">\n",
       "      <th></th>\n",
       "      <th>CD_OSCAR</th>\n",
       "      <th>DC_NOME</th>\n",
       "      <th>FL_CAPITAL</th>\n",
       "      <th>DT_FIM_OPERACAO</th>\n",
       "      <th>CD_SITUACAO</th>\n",
       "      <th>TP_ESTACAO</th>\n",
       "      <th>VL_LATITUDE</th>\n",
       "      <th>CD_WSI</th>\n",
       "      <th>CD_DISTRITO</th>\n",
       "      <th>VL_ALTITUDE</th>\n",
       "      <th>SG_ESTADO</th>\n",
       "      <th>CD_ESTACAO</th>\n",
       "      <th>VL_LONGITUDE</th>\n",
       "      <th>DT_INICIO_OPERACAO</th>\n",
       "    </tr>\n",
       "  </thead>\n",
       "  <tbody>\n",
       "    <tr>\n",
       "      <th>0</th>\n",
       "      <td>0-2000-0-86765</td>\n",
       "      <td>ABROLHOS</td>\n",
       "      <td>N</td>\n",
       "      <td>0.0</td>\n",
       "      <td>Pane</td>\n",
       "      <td>Automatica</td>\n",
       "      <td>-17.963056</td>\n",
       "      <td>0-76-0-2906907000000408</td>\n",
       "      <td>4</td>\n",
       "      <td>20.93</td>\n",
       "      <td>BA</td>\n",
       "      <td>A422</td>\n",
       "      <td>-38.703333</td>\n",
       "      <td>2008-07-20T21:00:00.000-03:00</td>\n",
       "    </tr>\n",
       "    <tr>\n",
       "      <th>1</th>\n",
       "      <td>0-2000-0-81755</td>\n",
       "      <td>ACARAU</td>\n",
       "      <td>N</td>\n",
       "      <td>0.0</td>\n",
       "      <td>Operante</td>\n",
       "      <td>Automatica</td>\n",
       "      <td>-3.121111</td>\n",
       "      <td>0-76-0-2300200000000446</td>\n",
       "      <td>3</td>\n",
       "      <td>67.15</td>\n",
       "      <td>CE</td>\n",
       "      <td>A360</td>\n",
       "      <td>-40.087222</td>\n",
       "      <td>2009-04-21T21:00:00.000-03:00</td>\n",
       "    </tr>\n",
       "    <tr>\n",
       "      <th>2</th>\n",
       "      <td>0-2000-0-86827</td>\n",
       "      <td>AFONSO CLAUDIO</td>\n",
       "      <td>N</td>\n",
       "      <td>0.0</td>\n",
       "      <td>Pane</td>\n",
       "      <td>Automatica</td>\n",
       "      <td>-20.104167</td>\n",
       "      <td>0-76-0-3200102000000478</td>\n",
       "      <td>6</td>\n",
       "      <td>507.48</td>\n",
       "      <td>ES</td>\n",
       "      <td>A657</td>\n",
       "      <td>-41.106944</td>\n",
       "      <td>2011-09-23T21:00:00.000-03:00</td>\n",
       "    </tr>\n",
       "    <tr>\n",
       "      <th>3</th>\n",
       "      <td>0-2000-0-86686</td>\n",
       "      <td>AGUA BOA</td>\n",
       "      <td>N</td>\n",
       "      <td>0.0</td>\n",
       "      <td>Operante</td>\n",
       "      <td>Automatica</td>\n",
       "      <td>-14.016389</td>\n",
       "      <td>0-76-0-5100201000000157</td>\n",
       "      <td>9</td>\n",
       "      <td>440.00</td>\n",
       "      <td>MT</td>\n",
       "      <td>A908</td>\n",
       "      <td>-52.211667</td>\n",
       "      <td>2006-12-15T21:00:00.000-03:00</td>\n",
       "    </tr>\n",
       "    <tr>\n",
       "      <th>4</th>\n",
       "      <td>0-2000-0-86812</td>\n",
       "      <td>AGUA CLARA</td>\n",
       "      <td>N</td>\n",
       "      <td>0.0</td>\n",
       "      <td>Operante</td>\n",
       "      <td>Automatica</td>\n",
       "      <td>-20.444444</td>\n",
       "      <td>0-76-0-5000203000000463</td>\n",
       "      <td>7</td>\n",
       "      <td>323.63</td>\n",
       "      <td>MS</td>\n",
       "      <td>A756</td>\n",
       "      <td>-52.875833</td>\n",
       "      <td>2010-08-13T21:00:00.000-03:00</td>\n",
       "    </tr>\n",
       "    <tr>\n",
       "      <th>...</th>\n",
       "      <td>...</td>\n",
       "      <td>...</td>\n",
       "      <td>...</td>\n",
       "      <td>...</td>\n",
       "      <td>...</td>\n",
       "      <td>...</td>\n",
       "      <td>...</td>\n",
       "      <td>...</td>\n",
       "      <td>...</td>\n",
       "      <td>...</td>\n",
       "      <td>...</td>\n",
       "      <td>...</td>\n",
       "      <td>...</td>\n",
       "      <td>...</td>\n",
       "    </tr>\n",
       "    <tr>\n",
       "      <th>709</th>\n",
       "      <td>0-2000-0-82198</td>\n",
       "      <td>TURIACU</td>\n",
       "      <td>N</td>\n",
       "      <td>0.0</td>\n",
       "      <td>Operante</td>\n",
       "      <td>Convencional</td>\n",
       "      <td>-1.661389</td>\n",
       "      <td>0-76-0-2112407000W82198</td>\n",
       "      <td>2</td>\n",
       "      <td>34.48</td>\n",
       "      <td>MA</td>\n",
       "      <td>82198</td>\n",
       "      <td>-45.371944</td>\n",
       "      <td>1976-07-28T21:00:00.000-03:00</td>\n",
       "    </tr>\n",
       "    <tr>\n",
       "      <th>710</th>\n",
       "      <td>0-2000-0-83428</td>\n",
       "      <td>UNAI</td>\n",
       "      <td>N</td>\n",
       "      <td>0.0</td>\n",
       "      <td>Operante</td>\n",
       "      <td>Convencional</td>\n",
       "      <td>-16.366389</td>\n",
       "      <td>0-76-0-3170404000W83428</td>\n",
       "      <td>5</td>\n",
       "      <td>595.59</td>\n",
       "      <td>MG</td>\n",
       "      <td>83428</td>\n",
       "      <td>-46.889444</td>\n",
       "      <td>1976-04-06T21:00:00.000-03:00</td>\n",
       "    </tr>\n",
       "    <tr>\n",
       "      <th>711</th>\n",
       "      <td>0-2000-0-83648</td>\n",
       "      <td>VITORIA</td>\n",
       "      <td>S</td>\n",
       "      <td>0.0</td>\n",
       "      <td>Operante</td>\n",
       "      <td>Convencional</td>\n",
       "      <td>-20.315833</td>\n",
       "      <td>0-76-0-3205309000W83648</td>\n",
       "      <td>6</td>\n",
       "      <td>36.20</td>\n",
       "      <td>ES</td>\n",
       "      <td>83648</td>\n",
       "      <td>-40.316944</td>\n",
       "      <td>1923-11-19T21:00:00.000-03:00</td>\n",
       "    </tr>\n",
       "    <tr>\n",
       "      <th>712</th>\n",
       "      <td>0-2000-0-83344</td>\n",
       "      <td>VITORIA DA CONQUISTA</td>\n",
       "      <td>N</td>\n",
       "      <td>0.0</td>\n",
       "      <td>Operante</td>\n",
       "      <td>Convencional</td>\n",
       "      <td>-14.886389</td>\n",
       "      <td>0-76-0-2933307000W83344</td>\n",
       "      <td>4</td>\n",
       "      <td>879.47</td>\n",
       "      <td>BA</td>\n",
       "      <td>83344</td>\n",
       "      <td>-40.801389</td>\n",
       "      <td>1935-12-31T21:00:00.000-03:00</td>\n",
       "    </tr>\n",
       "    <tr>\n",
       "      <th>713</th>\n",
       "      <td>0-2000-0-82376</td>\n",
       "      <td>ZE DOCA</td>\n",
       "      <td>N</td>\n",
       "      <td>0.0</td>\n",
       "      <td>Operante</td>\n",
       "      <td>Convencional</td>\n",
       "      <td>-3.269167</td>\n",
       "      <td>0-76-0-2114007000W82376</td>\n",
       "      <td>2</td>\n",
       "      <td>46.71</td>\n",
       "      <td>MA</td>\n",
       "      <td>82376</td>\n",
       "      <td>-45.651111</td>\n",
       "      <td>1970-08-24T21:00:00.000-03:00</td>\n",
       "    </tr>\n",
       "  </tbody>\n",
       "</table>\n",
       "<p>714 rows × 14 columns</p>\n",
       "</div>"
      ],
      "text/plain": [
       "           CD_OSCAR               DC_NOME FL_CAPITAL  DT_FIM_OPERACAO  \\\n",
       "0    0-2000-0-86765              ABROLHOS          N              0.0   \n",
       "1    0-2000-0-81755                ACARAU          N              0.0   \n",
       "2    0-2000-0-86827        AFONSO CLAUDIO          N              0.0   \n",
       "3    0-2000-0-86686              AGUA BOA          N              0.0   \n",
       "4    0-2000-0-86812            AGUA CLARA          N              0.0   \n",
       "..              ...                   ...        ...              ...   \n",
       "709  0-2000-0-82198               TURIACU          N              0.0   \n",
       "710  0-2000-0-83428                  UNAI          N              0.0   \n",
       "711  0-2000-0-83648               VITORIA          S              0.0   \n",
       "712  0-2000-0-83344  VITORIA DA CONQUISTA          N              0.0   \n",
       "713  0-2000-0-82376               ZE DOCA          N              0.0   \n",
       "\n",
       "    CD_SITUACAO    TP_ESTACAO  VL_LATITUDE                   CD_WSI  \\\n",
       "0          Pane    Automatica   -17.963056  0-76-0-2906907000000408   \n",
       "1      Operante    Automatica    -3.121111  0-76-0-2300200000000446   \n",
       "2          Pane    Automatica   -20.104167  0-76-0-3200102000000478   \n",
       "3      Operante    Automatica   -14.016389  0-76-0-5100201000000157   \n",
       "4      Operante    Automatica   -20.444444  0-76-0-5000203000000463   \n",
       "..          ...           ...          ...                      ...   \n",
       "709    Operante  Convencional    -1.661389  0-76-0-2112407000W82198   \n",
       "710    Operante  Convencional   -16.366389  0-76-0-3170404000W83428   \n",
       "711    Operante  Convencional   -20.315833  0-76-0-3205309000W83648   \n",
       "712    Operante  Convencional   -14.886389  0-76-0-2933307000W83344   \n",
       "713    Operante  Convencional    -3.269167  0-76-0-2114007000W82376   \n",
       "\n",
       "     CD_DISTRITO  VL_ALTITUDE SG_ESTADO CD_ESTACAO  VL_LONGITUDE  \\\n",
       "0              4        20.93        BA       A422    -38.703333   \n",
       "1              3        67.15        CE       A360    -40.087222   \n",
       "2              6       507.48        ES       A657    -41.106944   \n",
       "3              9       440.00        MT       A908    -52.211667   \n",
       "4              7       323.63        MS       A756    -52.875833   \n",
       "..           ...          ...       ...        ...           ...   \n",
       "709            2        34.48        MA      82198    -45.371944   \n",
       "710            5       595.59        MG      83428    -46.889444   \n",
       "711            6        36.20        ES      83648    -40.316944   \n",
       "712            4       879.47        BA      83344    -40.801389   \n",
       "713            2        46.71        MA      82376    -45.651111   \n",
       "\n",
       "                DT_INICIO_OPERACAO  \n",
       "0    2008-07-20T21:00:00.000-03:00  \n",
       "1    2009-04-21T21:00:00.000-03:00  \n",
       "2    2011-09-23T21:00:00.000-03:00  \n",
       "3    2006-12-15T21:00:00.000-03:00  \n",
       "4    2010-08-13T21:00:00.000-03:00  \n",
       "..                             ...  \n",
       "709  1976-07-28T21:00:00.000-03:00  \n",
       "710  1976-04-06T21:00:00.000-03:00  \n",
       "711  1923-11-19T21:00:00.000-03:00  \n",
       "712  1935-12-31T21:00:00.000-03:00  \n",
       "713  1970-08-24T21:00:00.000-03:00  \n",
       "\n",
       "[714 rows x 14 columns]"
      ]
     },
     "execution_count": 64,
     "metadata": {},
     "output_type": "execute_result"
    }
   ],
   "source": [
    "df"
   ]
  },
  {
   "cell_type": "code",
   "execution_count": 65,
   "metadata": {},
   "outputs": [],
   "source": [
    "df['nova_data'] = df['DT_INICIO_OPERACAO'].str.split('T').str[0]"
   ]
  },
  {
   "cell_type": "code",
   "execution_count": 67,
   "metadata": {},
   "outputs": [],
   "source": [
    "df['DT_INICIO_OPERACAO'] = df['nova_data']"
   ]
  },
  {
   "cell_type": "code",
   "execution_count": 69,
   "metadata": {},
   "outputs": [],
   "source": [
    "df.drop('nova_data', axis=1, inplace=True)"
   ]
  },
  {
   "cell_type": "code",
   "execution_count": 71,
   "metadata": {},
   "outputs": [
    {
     "name": "stdout",
     "output_type": "stream",
     "text": [
      "<class 'pandas.core.frame.DataFrame'>\n",
      "RangeIndex: 714 entries, 0 to 713\n",
      "Data columns (total 14 columns):\n",
      " #   Column              Non-Null Count  Dtype  \n",
      "---  ------              --------------  -----  \n",
      " 0   CD_OSCAR            712 non-null    object \n",
      " 1   DC_NOME             714 non-null    object \n",
      " 2   FL_CAPITAL          714 non-null    object \n",
      " 3   DT_FIM_OPERACAO     714 non-null    float64\n",
      " 4   CD_SITUACAO         714 non-null    object \n",
      " 5   TP_ESTACAO          714 non-null    object \n",
      " 6   VL_LATITUDE         714 non-null    float64\n",
      " 7   CD_WSI              712 non-null    object \n",
      " 8   CD_DISTRITO         714 non-null    int64  \n",
      " 9   VL_ALTITUDE         714 non-null    float64\n",
      " 10  SG_ESTADO           714 non-null    object \n",
      " 11  CD_ESTACAO          714 non-null    object \n",
      " 12  VL_LONGITUDE        714 non-null    float64\n",
      " 13  DT_INICIO_OPERACAO  714 non-null    object \n",
      "dtypes: float64(4), int64(1), object(9)\n",
      "memory usage: 78.2+ KB\n"
     ]
    }
   ],
   "source": [
    "df.info()"
   ]
  },
  {
   "cell_type": "code",
   "execution_count": 73,
   "metadata": {},
   "outputs": [
    {
     "name": "stdout",
     "output_type": "stream",
     "text": [
      "<class 'pandas.core.frame.DataFrame'>\n",
      "RangeIndex: 714 entries, 0 to 713\n",
      "Data columns (total 14 columns):\n",
      " #   Column              Non-Null Count  Dtype         \n",
      "---  ------              --------------  -----         \n",
      " 0   CD_OSCAR            712 non-null    object        \n",
      " 1   DC_NOME             714 non-null    object        \n",
      " 2   FL_CAPITAL          714 non-null    object        \n",
      " 3   DT_FIM_OPERACAO     714 non-null    float64       \n",
      " 4   CD_SITUACAO         714 non-null    object        \n",
      " 5   TP_ESTACAO          714 non-null    object        \n",
      " 6   VL_LATITUDE         714 non-null    float64       \n",
      " 7   CD_WSI              712 non-null    object        \n",
      " 8   CD_DISTRITO         714 non-null    int64         \n",
      " 9   VL_ALTITUDE         714 non-null    float64       \n",
      " 10  SG_ESTADO           714 non-null    object        \n",
      " 11  CD_ESTACAO          714 non-null    object        \n",
      " 12  VL_LONGITUDE        714 non-null    float64       \n",
      " 13  DT_INICIO_OPERACAO  714 non-null    datetime64[ns]\n",
      "dtypes: datetime64[ns](1), float64(4), int64(1), object(8)\n",
      "memory usage: 78.2+ KB\n"
     ]
    }
   ],
   "source": [
    "df['DT_INICIO_OPERACAO'] = pd.to_datetime(df['DT_INICIO_OPERACAO'], format=(\"%Y-%m-%d\"))\n",
    "df.info()"
   ]
  },
  {
   "cell_type": "code",
   "execution_count": 76,
   "metadata": {},
   "outputs": [
    {
     "data": {
      "text/html": [
       "<div>\n",
       "<style scoped>\n",
       "    .dataframe tbody tr th:only-of-type {\n",
       "        vertical-align: middle;\n",
       "    }\n",
       "\n",
       "    .dataframe tbody tr th {\n",
       "        vertical-align: top;\n",
       "    }\n",
       "\n",
       "    .dataframe thead th {\n",
       "        text-align: right;\n",
       "    }\n",
       "</style>\n",
       "<table border=\"1\" class=\"dataframe\">\n",
       "  <thead>\n",
       "    <tr style=\"text-align: right;\">\n",
       "      <th></th>\n",
       "      <th>CD_OSCAR</th>\n",
       "      <th>DC_NOME</th>\n",
       "      <th>FL_CAPITAL</th>\n",
       "      <th>DT_FIM_OPERACAO</th>\n",
       "      <th>CD_SITUACAO</th>\n",
       "      <th>TP_ESTACAO</th>\n",
       "      <th>VL_LATITUDE</th>\n",
       "      <th>CD_WSI</th>\n",
       "      <th>CD_DISTRITO</th>\n",
       "      <th>VL_ALTITUDE</th>\n",
       "      <th>SG_ESTADO</th>\n",
       "      <th>CD_ESTACAO</th>\n",
       "      <th>VL_LONGITUDE</th>\n",
       "      <th>DT_INICIO_OPERACAO</th>\n",
       "    </tr>\n",
       "  </thead>\n",
       "  <tbody>\n",
       "    <tr>\n",
       "      <th>0</th>\n",
       "      <td>0-2000-0-86765</td>\n",
       "      <td>ABROLHOS</td>\n",
       "      <td>N</td>\n",
       "      <td>0.0</td>\n",
       "      <td>Pane</td>\n",
       "      <td>Automatica</td>\n",
       "      <td>-17.963056</td>\n",
       "      <td>0-76-0-2906907000000408</td>\n",
       "      <td>4</td>\n",
       "      <td>20.93</td>\n",
       "      <td>BA</td>\n",
       "      <td>A422</td>\n",
       "      <td>-38.703333</td>\n",
       "      <td>2008-07-20</td>\n",
       "    </tr>\n",
       "    <tr>\n",
       "      <th>1</th>\n",
       "      <td>0-2000-0-81755</td>\n",
       "      <td>ACARAU</td>\n",
       "      <td>N</td>\n",
       "      <td>0.0</td>\n",
       "      <td>Operante</td>\n",
       "      <td>Automatica</td>\n",
       "      <td>-3.121111</td>\n",
       "      <td>0-76-0-2300200000000446</td>\n",
       "      <td>3</td>\n",
       "      <td>67.15</td>\n",
       "      <td>CE</td>\n",
       "      <td>A360</td>\n",
       "      <td>-40.087222</td>\n",
       "      <td>2009-04-21</td>\n",
       "    </tr>\n",
       "    <tr>\n",
       "      <th>2</th>\n",
       "      <td>0-2000-0-86827</td>\n",
       "      <td>AFONSO CLAUDIO</td>\n",
       "      <td>N</td>\n",
       "      <td>0.0</td>\n",
       "      <td>Pane</td>\n",
       "      <td>Automatica</td>\n",
       "      <td>-20.104167</td>\n",
       "      <td>0-76-0-3200102000000478</td>\n",
       "      <td>6</td>\n",
       "      <td>507.48</td>\n",
       "      <td>ES</td>\n",
       "      <td>A657</td>\n",
       "      <td>-41.106944</td>\n",
       "      <td>2011-09-23</td>\n",
       "    </tr>\n",
       "    <tr>\n",
       "      <th>3</th>\n",
       "      <td>0-2000-0-86686</td>\n",
       "      <td>AGUA BOA</td>\n",
       "      <td>N</td>\n",
       "      <td>0.0</td>\n",
       "      <td>Operante</td>\n",
       "      <td>Automatica</td>\n",
       "      <td>-14.016389</td>\n",
       "      <td>0-76-0-5100201000000157</td>\n",
       "      <td>9</td>\n",
       "      <td>440.00</td>\n",
       "      <td>MT</td>\n",
       "      <td>A908</td>\n",
       "      <td>-52.211667</td>\n",
       "      <td>2006-12-15</td>\n",
       "    </tr>\n",
       "    <tr>\n",
       "      <th>4</th>\n",
       "      <td>0-2000-0-86812</td>\n",
       "      <td>AGUA CLARA</td>\n",
       "      <td>N</td>\n",
       "      <td>0.0</td>\n",
       "      <td>Operante</td>\n",
       "      <td>Automatica</td>\n",
       "      <td>-20.444444</td>\n",
       "      <td>0-76-0-5000203000000463</td>\n",
       "      <td>7</td>\n",
       "      <td>323.63</td>\n",
       "      <td>MS</td>\n",
       "      <td>A756</td>\n",
       "      <td>-52.875833</td>\n",
       "      <td>2010-08-13</td>\n",
       "    </tr>\n",
       "  </tbody>\n",
       "</table>\n",
       "</div>"
      ],
      "text/plain": [
       "         CD_OSCAR         DC_NOME FL_CAPITAL  DT_FIM_OPERACAO CD_SITUACAO  \\\n",
       "0  0-2000-0-86765        ABROLHOS          N              0.0        Pane   \n",
       "1  0-2000-0-81755          ACARAU          N              0.0    Operante   \n",
       "2  0-2000-0-86827  AFONSO CLAUDIO          N              0.0        Pane   \n",
       "3  0-2000-0-86686        AGUA BOA          N              0.0    Operante   \n",
       "4  0-2000-0-86812      AGUA CLARA          N              0.0    Operante   \n",
       "\n",
       "   TP_ESTACAO  VL_LATITUDE                   CD_WSI  CD_DISTRITO  VL_ALTITUDE  \\\n",
       "0  Automatica   -17.963056  0-76-0-2906907000000408            4        20.93   \n",
       "1  Automatica    -3.121111  0-76-0-2300200000000446            3        67.15   \n",
       "2  Automatica   -20.104167  0-76-0-3200102000000478            6       507.48   \n",
       "3  Automatica   -14.016389  0-76-0-5100201000000157            9       440.00   \n",
       "4  Automatica   -20.444444  0-76-0-5000203000000463            7       323.63   \n",
       "\n",
       "  SG_ESTADO CD_ESTACAO  VL_LONGITUDE DT_INICIO_OPERACAO  \n",
       "0        BA       A422    -38.703333         2008-07-20  \n",
       "1        CE       A360    -40.087222         2009-04-21  \n",
       "2        ES       A657    -41.106944         2011-09-23  \n",
       "3        MT       A908    -52.211667         2006-12-15  \n",
       "4        MS       A756    -52.875833         2010-08-13  "
      ]
     },
     "execution_count": 76,
     "metadata": {},
     "output_type": "execute_result"
    }
   ],
   "source": [
    "df.head()"
   ]
  },
  {
   "cell_type": "markdown",
   "metadata": {},
   "source": [
    "# Exportando em um arquivo csv"
   ]
  },
  {
   "cell_type": "code",
   "execution_count": 77,
   "metadata": {},
   "outputs": [],
   "source": [
    "df.to_csv('../data/dados_estacoes.csv', index=False)"
   ]
  },
  {
   "cell_type": "code",
   "execution_count": null,
   "metadata": {},
   "outputs": [],
   "source": []
  }
 ],
 "metadata": {
  "kernelspec": {
   "display_name": "base",
   "language": "python",
   "name": "python3"
  },
  "language_info": {
   "codemirror_mode": {
    "name": "ipython",
    "version": 3
   },
   "file_extension": ".py",
   "mimetype": "text/x-python",
   "name": "python",
   "nbconvert_exporter": "python",
   "pygments_lexer": "ipython3",
   "version": "3.11.4"
  }
 },
 "nbformat": 4,
 "nbformat_minor": 2
}
