{
 "cells": [
  {
   "cell_type": "code",
   "execution_count": 2,
   "metadata": {},
   "outputs": [],
   "source": [
    "import pandas as pd\n",
    "import json"
   ]
  },
  {
   "cell_type": "code",
   "execution_count": 3,
   "metadata": {},
   "outputs": [],
   "source": [
    "path_ = '..\\\\data\\\\data_processed_all_stations.json'\n",
    "\n",
    "with open(path_, 'r') as file:\n",
    "    document = json.load(file)\n",
    "    \n",
    "df = pd.DataFrame(document)"
   ]
  },
  {
   "cell_type": "code",
   "execution_count": 4,
   "metadata": {},
   "outputs": [
    {
     "name": "stdout",
     "output_type": "stream",
     "text": [
      "<class 'pandas.core.frame.DataFrame'>\n",
      "RangeIndex: 714 entries, 0 to 713\n",
      "Data columns (total 15 columns):\n",
      " #   Column              Non-Null Count  Dtype  \n",
      "---  ------              --------------  -----  \n",
      " 0   CD_OSCAR            712 non-null    object \n",
      " 1   DC_NOME             714 non-null    object \n",
      " 2   FL_CAPITAL          714 non-null    object \n",
      " 3   DT_FIM_OPERACAO     714 non-null    int64  \n",
      " 4   CD_SITUACAO         714 non-null    object \n",
      " 5   TP_ESTACAO          714 non-null    object \n",
      " 6   VL_LATITUDE         714 non-null    float64\n",
      " 7   CD_WSI              712 non-null    object \n",
      " 8   CD_DISTRITO         714 non-null    int64  \n",
      " 9   VL_ALTITUDE         714 non-null    float64\n",
      " 10  SG_ESTADO           714 non-null    object \n",
      " 11  CD_ESTACAO          714 non-null    object \n",
      " 12  VL_LONGITUDE        714 non-null    float64\n",
      " 13  DT_INICIO_OPERACAO  714 non-null    object \n",
      " 14  REGIAO              714 non-null    object \n",
      "dtypes: float64(3), int64(2), object(10)\n",
      "memory usage: 83.8+ KB\n"
     ]
    }
   ],
   "source": [
    "df.info()"
   ]
  },
  {
   "cell_type": "code",
   "execution_count": 5,
   "metadata": {},
   "outputs": [
    {
     "data": {
      "text/html": [
       "<div>\n",
       "<style scoped>\n",
       "    .dataframe tbody tr th:only-of-type {\n",
       "        vertical-align: middle;\n",
       "    }\n",
       "\n",
       "    .dataframe tbody tr th {\n",
       "        vertical-align: top;\n",
       "    }\n",
       "\n",
       "    .dataframe thead th {\n",
       "        text-align: right;\n",
       "    }\n",
       "</style>\n",
       "<table border=\"1\" class=\"dataframe\">\n",
       "  <thead>\n",
       "    <tr style=\"text-align: right;\">\n",
       "      <th></th>\n",
       "      <th>REGIAO</th>\n",
       "      <th>DC_NOME</th>\n",
       "      <th>SG_ESTADO</th>\n",
       "      <th>CD_ESTACAO</th>\n",
       "    </tr>\n",
       "  </thead>\n",
       "  <tbody>\n",
       "    <tr>\n",
       "      <th>0</th>\n",
       "      <td>NORDESTE</td>\n",
       "      <td>ABROLHOS</td>\n",
       "      <td>BA</td>\n",
       "      <td>A422</td>\n",
       "    </tr>\n",
       "    <tr>\n",
       "      <th>1</th>\n",
       "      <td>NORDESTE</td>\n",
       "      <td>ACARAU</td>\n",
       "      <td>CE</td>\n",
       "      <td>A360</td>\n",
       "    </tr>\n",
       "    <tr>\n",
       "      <th>2</th>\n",
       "      <td>SUDESTE</td>\n",
       "      <td>AFONSO CLAUDIO</td>\n",
       "      <td>ES</td>\n",
       "      <td>A657</td>\n",
       "    </tr>\n",
       "    <tr>\n",
       "      <th>3</th>\n",
       "      <td>CENTRO-OESTE</td>\n",
       "      <td>AGUA BOA</td>\n",
       "      <td>MT</td>\n",
       "      <td>A908</td>\n",
       "    </tr>\n",
       "    <tr>\n",
       "      <th>4</th>\n",
       "      <td>CENTRO-OESTE</td>\n",
       "      <td>AGUA CLARA</td>\n",
       "      <td>MS</td>\n",
       "      <td>A756</td>\n",
       "    </tr>\n",
       "  </tbody>\n",
       "</table>\n",
       "</div>"
      ],
      "text/plain": [
       "         REGIAO         DC_NOME SG_ESTADO CD_ESTACAO\n",
       "0      NORDESTE        ABROLHOS        BA       A422\n",
       "1      NORDESTE          ACARAU        CE       A360\n",
       "2       SUDESTE  AFONSO CLAUDIO        ES       A657\n",
       "3  CENTRO-OESTE        AGUA BOA        MT       A908\n",
       "4  CENTRO-OESTE      AGUA CLARA        MS       A756"
      ]
     },
     "execution_count": 5,
     "metadata": {},
     "output_type": "execute_result"
    }
   ],
   "source": [
    "df[['REGIAO','DC_NOME', 'SG_ESTADO', 'CD_ESTACAO']].head()\n"
   ]
  },
  {
   "cell_type": "markdown",
   "metadata": {},
   "source": [
    "### Função reponsavel por verificar se sigla do estado está no mapa_regioes<br> Retorna o noma da regão"
   ]
  },
  {
   "cell_type": "code",
   "execution_count": null,
   "metadata": {},
   "outputs": [],
   "source": [
    "def obter_regiao_pelo_estado(estado):\n",
    "    mapa_regioes = {\n",
    "        'NORTE': ['AC', 'AM', 'AP', 'PA', 'RO', 'RR', 'TO'],\n",
    "        'NORDESTE': ['AL', 'BA', 'CE', 'MA', 'PB', 'PE', 'PI', 'RN', 'SE'],\n",
    "        'CENTRO-OESTE': ['DF', 'GO', 'MT', 'MS'],\n",
    "        'SUDESTE': ['ES', 'MG', 'RJ', 'SP'],\n",
    "        'SUL': ['PR', 'RS', 'SC']\n",
    "    }\n",
    "\n",
    "    for regiao, estados in mapa_regioes.items():\n",
    "        if estado in estados:\n",
    "            return regiao\n",
    "\n",
    "    return 'Região não encontrada'"
   ]
  },
  {
   "cell_type": "markdown",
   "metadata": {},
   "source": [
    "### Cria uma nova coluna no dataframe estações"
   ]
  },
  {
   "cell_type": "code",
   "execution_count": null,
   "metadata": {},
   "outputs": [],
   "source": [
    "def cria_coluna_regiao_no_datafrma(df):\n",
    "    \n",
    "    df['REGIAO'] = df['SG_ESTADO'].apply(lambda estado:  obter_regiao_pelo_estado(estado))\n"
   ]
  },
  {
   "cell_type": "markdown",
   "metadata": {},
   "source": [
    "# SEÇÃO: CRIAR UMA LISTA DE ESTAÇÕES POR REGIÃO"
   ]
  },
  {
   "cell_type": "code",
   "execution_count": 41,
   "metadata": {},
   "outputs": [
    {
     "data": {
      "text/html": [
       "<div>\n",
       "<style scoped>\n",
       "    .dataframe tbody tr th:only-of-type {\n",
       "        vertical-align: middle;\n",
       "    }\n",
       "\n",
       "    .dataframe tbody tr th {\n",
       "        vertical-align: top;\n",
       "    }\n",
       "\n",
       "    .dataframe thead th {\n",
       "        text-align: right;\n",
       "    }\n",
       "</style>\n",
       "<table border=\"1\" class=\"dataframe\">\n",
       "  <thead>\n",
       "    <tr style=\"text-align: right;\">\n",
       "      <th></th>\n",
       "      <th>REGIAO</th>\n",
       "      <th>SG_ESTADO</th>\n",
       "      <th>DC_NOME</th>\n",
       "      <th>CD_ESTACAO</th>\n",
       "    </tr>\n",
       "  </thead>\n",
       "  <tbody>\n",
       "    <tr>\n",
       "      <th>398</th>\n",
       "      <td>SUL</td>\n",
       "      <td>RS</td>\n",
       "      <td>PORTO ALEGRE- BELEM NOVO</td>\n",
       "      <td>B807</td>\n",
       "    </tr>\n",
       "    <tr>\n",
       "      <th>142</th>\n",
       "      <td>SUL</td>\n",
       "      <td>PR</td>\n",
       "      <td>COLOMBO</td>\n",
       "      <td>B806</td>\n",
       "    </tr>\n",
       "    <tr>\n",
       "      <th>285</th>\n",
       "      <td>SUL</td>\n",
       "      <td>PR</td>\n",
       "      <td>LARANJEIRAS DO SUL</td>\n",
       "      <td>B804</td>\n",
       "    </tr>\n",
       "    <tr>\n",
       "      <th>99</th>\n",
       "      <td>SUL</td>\n",
       "      <td>PR</td>\n",
       "      <td>CAMPINA DA LAGOA</td>\n",
       "      <td>B803</td>\n",
       "    </tr>\n",
       "    <tr>\n",
       "      <th>521</th>\n",
       "      <td>SUL</td>\n",
       "      <td>RS</td>\n",
       "      <td>Santa Vitoria do Palmar - Barra do Chui</td>\n",
       "      <td>A899</td>\n",
       "    </tr>\n",
       "    <tr>\n",
       "      <th>...</th>\n",
       "      <td>...</td>\n",
       "      <td>...</td>\n",
       "      <td>...</td>\n",
       "      <td>...</td>\n",
       "    </tr>\n",
       "    <tr>\n",
       "      <th>642</th>\n",
       "      <td>SUL</td>\n",
       "      <td>RS</td>\n",
       "      <td>LAGOA VERMELHA</td>\n",
       "      <td>83916</td>\n",
       "    </tr>\n",
       "    <tr>\n",
       "      <th>665</th>\n",
       "      <td>SUL</td>\n",
       "      <td>RS</td>\n",
       "      <td>PASSO FUNDO</td>\n",
       "      <td>83914</td>\n",
       "    </tr>\n",
       "    <tr>\n",
       "      <th>616</th>\n",
       "      <td>SUL</td>\n",
       "      <td>RS</td>\n",
       "      <td>CRUZ ALTA</td>\n",
       "      <td>83912</td>\n",
       "    </tr>\n",
       "    <tr>\n",
       "      <th>631</th>\n",
       "      <td>SUL</td>\n",
       "      <td>PR</td>\n",
       "      <td>IRATI</td>\n",
       "      <td>83836</td>\n",
       "    </tr>\n",
       "    <tr>\n",
       "      <th>649</th>\n",
       "      <td>SUL</td>\n",
       "      <td>PR</td>\n",
       "      <td>MARINGA</td>\n",
       "      <td>83767</td>\n",
       "    </tr>\n",
       "  </tbody>\n",
       "</table>\n",
       "<p>107 rows × 4 columns</p>\n",
       "</div>"
      ],
      "text/plain": [
       "    REGIAO SG_ESTADO                                  DC_NOME CD_ESTACAO\n",
       "398    SUL        RS                 PORTO ALEGRE- BELEM NOVO       B807\n",
       "142    SUL        PR                                  COLOMBO       B806\n",
       "285    SUL        PR                       LARANJEIRAS DO SUL       B804\n",
       "99     SUL        PR                         CAMPINA DA LAGOA       B803\n",
       "521    SUL        RS  Santa Vitoria do Palmar - Barra do Chui       A899\n",
       "..     ...       ...                                      ...        ...\n",
       "642    SUL        RS                           LAGOA VERMELHA      83916\n",
       "665    SUL        RS                              PASSO FUNDO      83914\n",
       "616    SUL        RS                                CRUZ ALTA      83912\n",
       "631    SUL        PR                                    IRATI      83836\n",
       "649    SUL        PR                                  MARINGA      83767\n",
       "\n",
       "[107 rows x 4 columns]"
      ]
     },
     "execution_count": 41,
     "metadata": {},
     "output_type": "execute_result"
    }
   ],
   "source": [
    "df [['REGIAO','SG_ESTADO', 'DC_NOME', 'CD_ESTACAO']]  [df['REGIAO'] == 'SUL'  ].sort_values('CD_ESTACAO', ascending=False)"
   ]
  },
  {
   "cell_type": "code",
   "execution_count": 42,
   "metadata": {},
   "outputs": [],
   "source": [
    "from datetime import datetime, timedelta\n",
    "import time\n",
    "import requests\n",
    "import os\n",
    "from dotenv import load_dotenv\n",
    "\n",
    "\n",
    "\n",
    "class ConnectAPI:\n",
    "    \n",
    "    def __init__(self) -> None:\n",
    "        \n",
    "        self.url_base = 'https://apitempo.inmet.gov.br'\n",
    "        self.token = self.get_token()\n",
    "        \n",
    "\n",
    "\n",
    "    # obter token\n",
    "    def get_token(self):\n",
    "        \n",
    "        load_dotenv()\n",
    "        \n",
    "        token1 = os.getenv('TOKEN1')\n",
    "        token2 = os.getenv('TOKEN2')\n",
    "        \n",
    "        if token1 and token2 is not None:\n",
    "            self.token = True\n",
    "        else:\n",
    "            raise ValueError('Token não encontrado.')\n",
    "        \n",
    "        return f'{token1}={token2}'\n",
    "    \n",
    "    \n",
    "    \n",
    "    # Obter os dados de uma url\n",
    "    def get_data(self, url):\n",
    "        response = requests.get(url)\n",
    "        \n",
    "        if response.status_code == 200:\n",
    "            data = response.json()\n",
    "            \n",
    "        return data\n",
    "        \n",
    "\n",
    "\n",
    "    # obtem dados horarios baseados nos parametros\n",
    "    def get_data_hour_of_station(self, data_inicial, data_final, station):\n",
    "\n",
    "        url = f'{self.url_base}/token/estacao/{data_inicial}/{data_final}/{station}/{self.token}'\n",
    "        print(url)\n",
    "        \n",
    "        data = self.get_data(url) \n",
    "        \n",
    "        return data\n",
    "        \n",
    "\n",
    "\n",
    "    def incrementar_dia(self, start_day):\n",
    "            \n",
    "            # converte a data (string) para data(datetime)\n",
    "            date_curent = datetime.strptime(start_day, '%Y-%m-%d').date()\n",
    "            \n",
    "            # recuperar a data de hoje\n",
    "            data_hora_atual = datetime.now()\n",
    "            data_de_hoje = data_hora_atual.date()\n",
    "            \n",
    "            # indentificar o interevalo entre data de hoje e a data inicial\n",
    "            intervalo = (data_de_hoje - date_curent).days\n",
    "                \n",
    "            if intervalo >= 7:\n",
    "                \n",
    "                date_curent += timedelta(days=6)\n",
    "            \n",
    "            else:\n",
    "                \n",
    "                date_curent += timedelta(days=intervalo-1)\n",
    "            \n",
    "            new_start_day = date_curent.strftime('%Y-%m-%d')\n",
    "            \n",
    "            return new_start_day\n",
    "        \n",
    "        \n",
    "    def get_data_hour_of_api(self, start_date, cod_estacao):\n",
    "            \n",
    "            dados_diarios = []  \n",
    "            temp_date = datetime.strptime(start_date, '%Y-%m-%d').date()\n",
    "\n",
    "            # recuperar a data de hoje\n",
    "            data_hora_atual = datetime.now()\n",
    "            data_de_hoje = data_hora_atual.date()\n",
    "            \n",
    "            while temp_date < data_de_hoje:\n",
    "                \n",
    "                end_date = self.incrementar_dia(start_date)\n",
    "                \n",
    "                dados_horarios_de_estacao = self.get_data_hour_of_station(start_date,end_date,cod_estacao)\n",
    "                \n",
    "\n",
    "                print({len(dados_horarios_de_estacao)})\n",
    "                print(start_date, end_date)\n",
    "                \n",
    "                dados_diarios.extend(dados_horarios_de_estacao)\n",
    "                \n",
    "                temp_date = datetime.strptime(end_date, '%Y-%m-%d').date()\n",
    "                temp_date = temp_date + timedelta(days=1)\n",
    "                \n",
    "                start_date = temp_date.strftime('%Y-%m-%d')\n",
    "                time.sleep(30)\n",
    "            \n",
    "            return dados_diarios\n",
    "        \n",
    "    # função responsável por salvar dataframe em um arquivo json\n",
    "    def salvar_dados_em_um_arquivo_json(self, df, nome_arquivo):\n",
    "        \n",
    "        path = self.obter_diretorio_data()\n",
    "        \n",
    "        df.to_json(f'{path}\\{nome_arquivo}.json',orient='records')"
   ]
  },
  {
   "cell_type": "code",
   "execution_count": 43,
   "metadata": {},
   "outputs": [
    {
     "data": {
      "text/plain": [
       "list"
      ]
     },
     "execution_count": 43,
     "metadata": {},
     "output_type": "execute_result"
    }
   ],
   "source": [
    "series_de_estacoes = df [['CD_ESTACAO']]  [df['REGIAO'] == 'SUL'  ].sort_values('CD_ESTACAO', ascending=False)\n",
    "lista_de_estacoes = list(series_de_estacoes['CD_ESTACAO'])\n",
    "type(lista_de_estacoes)"
   ]
  },
  {
   "cell_type": "code",
   "execution_count": 44,
   "metadata": {},
   "outputs": [
    {
     "data": {
      "text/plain": [
       "107"
      ]
     },
     "execution_count": 44,
     "metadata": {},
     "output_type": "execute_result"
    }
   ],
   "source": [
    "len(lista_de_estacoes)"
   ]
  },
  {
   "cell_type": "code",
   "execution_count": 51,
   "metadata": {},
   "outputs": [
    {
     "name": "stdout",
     "output_type": "stream",
     "text": [
      "https://apitempo.inmet.gov.br/token/estacao/2024-01-01/2024-01-07/B807/cFRCVjVEdWdEUXZ6cVZ6N2tmRFI1YVF1WUVmT0lTaDk=pTBV5DugDQvzqVz7kfDR5aQuYEfOISh9\n",
      "{168}\n",
      "2024-01-01 2024-01-07\n",
      "https://apitempo.inmet.gov.br/token/estacao/2024-01-08/2024-01-14/B807/cFRCVjVEdWdEUXZ6cVZ6N2tmRFI1YVF1WUVmT0lTaDk=pTBV5DugDQvzqVz7kfDR5aQuYEfOISh9\n",
      "{168}\n",
      "2024-01-08 2024-01-14\n",
      "https://apitempo.inmet.gov.br/token/estacao/2024-01-15/2024-01-21/B807/cFRCVjVEdWdEUXZ6cVZ6N2tmRFI1YVF1WUVmT0lTaDk=pTBV5DugDQvzqVz7kfDR5aQuYEfOISh9\n",
      "{168}\n",
      "2024-01-15 2024-01-21\n",
      "https://apitempo.inmet.gov.br/token/estacao/2024-01-22/2024-01-28/B807/cFRCVjVEdWdEUXZ6cVZ6N2tmRFI1YVF1WUVmT0lTaDk=pTBV5DugDQvzqVz7kfDR5aQuYEfOISh9\n",
      "{168}\n",
      "2024-01-22 2024-01-28\n",
      "https://apitempo.inmet.gov.br/token/estacao/2024-01-29/2024-01-30/B807/cFRCVjVEdWdEUXZ6cVZ6N2tmRFI1YVF1WUVmT0lTaDk=pTBV5DugDQvzqVz7kfDR5aQuYEfOISh9\n",
      "{48}\n",
      "2024-01-29 2024-01-30\n",
      "tamanho:  720\n",
      "estação:  B807\n",
      "https://apitempo.inmet.gov.br/token/estacao/2024-01-01/2024-01-07/B806/cFRCVjVEdWdEUXZ6cVZ6N2tmRFI1YVF1WUVmT0lTaDk=pTBV5DugDQvzqVz7kfDR5aQuYEfOISh9\n",
      "{168}\n",
      "2024-01-01 2024-01-07\n",
      "https://apitempo.inmet.gov.br/token/estacao/2024-01-08/2024-01-14/B806/cFRCVjVEdWdEUXZ6cVZ6N2tmRFI1YVF1WUVmT0lTaDk=pTBV5DugDQvzqVz7kfDR5aQuYEfOISh9\n",
      "{168}\n",
      "2024-01-08 2024-01-14\n",
      "https://apitempo.inmet.gov.br/token/estacao/2024-01-15/2024-01-21/B806/cFRCVjVEdWdEUXZ6cVZ6N2tmRFI1YVF1WUVmT0lTaDk=pTBV5DugDQvzqVz7kfDR5aQuYEfOISh9\n",
      "{168}\n",
      "2024-01-15 2024-01-21\n",
      "https://apitempo.inmet.gov.br/token/estacao/2024-01-22/2024-01-28/B806/cFRCVjVEdWdEUXZ6cVZ6N2tmRFI1YVF1WUVmT0lTaDk=pTBV5DugDQvzqVz7kfDR5aQuYEfOISh9\n",
      "{168}\n",
      "2024-01-22 2024-01-28\n",
      "https://apitempo.inmet.gov.br/token/estacao/2024-01-29/2024-01-30/B806/cFRCVjVEdWdEUXZ6cVZ6N2tmRFI1YVF1WUVmT0lTaDk=pTBV5DugDQvzqVz7kfDR5aQuYEfOISh9\n",
      "{48}\n",
      "2024-01-29 2024-01-30\n",
      "tamanho:  1440\n",
      "estação:  B806\n",
      "https://apitempo.inmet.gov.br/token/estacao/2024-01-01/2024-01-07/B804/cFRCVjVEdWdEUXZ6cVZ6N2tmRFI1YVF1WUVmT0lTaDk=pTBV5DugDQvzqVz7kfDR5aQuYEfOISh9\n",
      "{168}\n",
      "2024-01-01 2024-01-07\n",
      "https://apitempo.inmet.gov.br/token/estacao/2024-01-08/2024-01-14/B804/cFRCVjVEdWdEUXZ6cVZ6N2tmRFI1YVF1WUVmT0lTaDk=pTBV5DugDQvzqVz7kfDR5aQuYEfOISh9\n",
      "{168}\n",
      "2024-01-08 2024-01-14\n",
      "https://apitempo.inmet.gov.br/token/estacao/2024-01-15/2024-01-21/B804/cFRCVjVEdWdEUXZ6cVZ6N2tmRFI1YVF1WUVmT0lTaDk=pTBV5DugDQvzqVz7kfDR5aQuYEfOISh9\n",
      "{168}\n",
      "2024-01-15 2024-01-21\n",
      "https://apitempo.inmet.gov.br/token/estacao/2024-01-22/2024-01-28/B804/cFRCVjVEdWdEUXZ6cVZ6N2tmRFI1YVF1WUVmT0lTaDk=pTBV5DugDQvzqVz7kfDR5aQuYEfOISh9\n",
      "{168}\n",
      "2024-01-22 2024-01-28\n",
      "https://apitempo.inmet.gov.br/token/estacao/2024-01-29/2024-01-30/B804/cFRCVjVEdWdEUXZ6cVZ6N2tmRFI1YVF1WUVmT0lTaDk=pTBV5DugDQvzqVz7kfDR5aQuYEfOISh9\n",
      "{48}\n",
      "2024-01-29 2024-01-30\n",
      "tamanho:  2160\n",
      "estação:  B804\n",
      "https://apitempo.inmet.gov.br/token/estacao/2024-01-01/2024-01-07/B803/cFRCVjVEdWdEUXZ6cVZ6N2tmRFI1YVF1WUVmT0lTaDk=pTBV5DugDQvzqVz7kfDR5aQuYEfOISh9\n",
      "{168}\n",
      "2024-01-01 2024-01-07\n",
      "https://apitempo.inmet.gov.br/token/estacao/2024-01-08/2024-01-14/B803/cFRCVjVEdWdEUXZ6cVZ6N2tmRFI1YVF1WUVmT0lTaDk=pTBV5DugDQvzqVz7kfDR5aQuYEfOISh9\n",
      "{168}\n",
      "2024-01-08 2024-01-14\n",
      "https://apitempo.inmet.gov.br/token/estacao/2024-01-15/2024-01-21/B803/cFRCVjVEdWdEUXZ6cVZ6N2tmRFI1YVF1WUVmT0lTaDk=pTBV5DugDQvzqVz7kfDR5aQuYEfOISh9\n",
      "{168}\n",
      "2024-01-15 2024-01-21\n",
      "https://apitempo.inmet.gov.br/token/estacao/2024-01-22/2024-01-28/B803/cFRCVjVEdWdEUXZ6cVZ6N2tmRFI1YVF1WUVmT0lTaDk=pTBV5DugDQvzqVz7kfDR5aQuYEfOISh9\n",
      "{168}\n",
      "2024-01-22 2024-01-28\n",
      "https://apitempo.inmet.gov.br/token/estacao/2024-01-29/2024-01-30/B803/cFRCVjVEdWdEUXZ6cVZ6N2tmRFI1YVF1WUVmT0lTaDk=pTBV5DugDQvzqVz7kfDR5aQuYEfOISh9\n",
      "{48}\n",
      "2024-01-29 2024-01-30\n",
      "tamanho:  2880\n",
      "estação:  B803\n",
      "https://apitempo.inmet.gov.br/token/estacao/2024-01-01/2024-01-07/A899/cFRCVjVEdWdEUXZ6cVZ6N2tmRFI1YVF1WUVmT0lTaDk=pTBV5DugDQvzqVz7kfDR5aQuYEfOISh9\n",
      "{168}\n",
      "2024-01-01 2024-01-07\n",
      "https://apitempo.inmet.gov.br/token/estacao/2024-01-08/2024-01-14/A899/cFRCVjVEdWdEUXZ6cVZ6N2tmRFI1YVF1WUVmT0lTaDk=pTBV5DugDQvzqVz7kfDR5aQuYEfOISh9\n",
      "{168}\n",
      "2024-01-08 2024-01-14\n",
      "https://apitempo.inmet.gov.br/token/estacao/2024-01-15/2024-01-21/A899/cFRCVjVEdWdEUXZ6cVZ6N2tmRFI1YVF1WUVmT0lTaDk=pTBV5DugDQvzqVz7kfDR5aQuYEfOISh9\n",
      "{168}\n",
      "2024-01-15 2024-01-21\n",
      "https://apitempo.inmet.gov.br/token/estacao/2024-01-22/2024-01-28/A899/cFRCVjVEdWdEUXZ6cVZ6N2tmRFI1YVF1WUVmT0lTaDk=pTBV5DugDQvzqVz7kfDR5aQuYEfOISh9\n",
      "{168}\n",
      "2024-01-22 2024-01-28\n",
      "https://apitempo.inmet.gov.br/token/estacao/2024-01-29/2024-01-30/A899/cFRCVjVEdWdEUXZ6cVZ6N2tmRFI1YVF1WUVmT0lTaDk=pTBV5DugDQvzqVz7kfDR5aQuYEfOISh9\n",
      "{48}\n",
      "2024-01-29 2024-01-30\n",
      "tamanho:  3600\n",
      "estação:  A899\n",
      "https://apitempo.inmet.gov.br/token/estacao/2024-01-01/2024-01-07/A898/cFRCVjVEdWdEUXZ6cVZ6N2tmRFI1YVF1WUVmT0lTaDk=pTBV5DugDQvzqVz7kfDR5aQuYEfOISh9\n",
      "{168}\n",
      "2024-01-01 2024-01-07\n",
      "https://apitempo.inmet.gov.br/token/estacao/2024-01-08/2024-01-14/A898/cFRCVjVEdWdEUXZ6cVZ6N2tmRFI1YVF1WUVmT0lTaDk=pTBV5DugDQvzqVz7kfDR5aQuYEfOISh9\n",
      "{168}\n",
      "2024-01-08 2024-01-14\n"
     ]
    }
   ],
   "source": [
    "connect = ConnectAPI()\n",
    "\n",
    "# PROCESSO: Extrai dados da API, baseado é uma data inicial e código de uma estação.\n",
    "# --------------------------------------------------------------------------------\n",
    "# 1 - Defini os parametros de entrada 'data_incial' e 'codigo_estacao'\n",
    "# 2 - Obtem os dados e guarda em uma variavel dados\n",
    "# 3 - Salva os dados em um arquivo json\n",
    "#----------------------------------------------------------------------------------\n",
    "start_date = '2024-01-01'\n",
    "#cod_estacao = 'A101'   \n",
    "#dados = connect.get_data_hour_of_api(start_date, cod_estacao)\n",
    "#connect.salvar_dados_em_um_arquivo_json(dados, 'dados_brutos_regiao_sudeste')\n",
    "#print(len(dados), type(dados))\n",
    "temp_dados = []\n",
    "for estacao in lista_de_estacoes:\n",
    "    dados = connect.get_data_hour_of_api(start_date, estacao)\n",
    "    temp_dados.extend(dados)\n",
    "    print('tamanho: ', len(temp_dados))\n",
    "    print('estação: ', estacao)\n",
    "\n",
    "\n",
    "#while temp_dados:\n",
    "#    temp_dados =  lista_de_estacoes.apply(lambda estacao: connect.get_data_hour_of_api(start_date, estacao))\n",
    "#    dados.extend(temp_dados)\n",
    "#    print(temp_dados)\n",
    "\n",
    "#start_date = '2024-01-21'  \n",
    "#dados = []\n",
    "#dados.extend(lista_de_estacoes.apply(lambda estacao: connect.get_data_hour_of_api(start_date, estacao)))"
   ]
  },
  {
   "cell_type": "code",
   "execution_count": 47,
   "metadata": {},
   "outputs": [
    {
     "data": {
      "text/plain": [
       "4320"
      ]
     },
     "execution_count": 47,
     "metadata": {},
     "output_type": "execute_result"
    }
   ],
   "source": [
    "len(temp_dados)"
   ]
  },
  {
   "cell_type": "code",
   "execution_count": 48,
   "metadata": {},
   "outputs": [],
   "source": [
    "df_test = pd.DataFrame(temp_dados)"
   ]
  },
  {
   "cell_type": "code",
   "execution_count": 49,
   "metadata": {},
   "outputs": [
    {
     "name": "stdout",
     "output_type": "stream",
     "text": [
      "<class 'pandas.core.frame.DataFrame'>\n",
      "RangeIndex: 4320 entries, 0 to 4319\n",
      "Data columns (total 27 columns):\n",
      " #   Column        Non-Null Count  Dtype \n",
      "---  ------        --------------  ----- \n",
      " 0   DC_NOME       4320 non-null   object\n",
      " 1   PRE_INS       4291 non-null   object\n",
      " 2   TEM_SEN       3989 non-null   object\n",
      " 3   VL_LATITUDE   4320 non-null   object\n",
      " 4   PRE_MAX       4291 non-null   object\n",
      " 5   UF            4320 non-null   object\n",
      " 6   RAD_GLO       4291 non-null   object\n",
      " 7   PTO_INS       4284 non-null   object\n",
      " 8   TEM_MIN       4291 non-null   object\n",
      " 9   VL_LONGITUDE  4320 non-null   object\n",
      " 10  UMD_MIN       4284 non-null   object\n",
      " 11  PTO_MAX       4283 non-null   object\n",
      " 12  VEN_DIR       3756 non-null   object\n",
      " 13  DT_MEDICAO    4320 non-null   object\n",
      " 14  CHUVA         4291 non-null   object\n",
      " 15  PRE_MIN       4291 non-null   object\n",
      " 16  UMD_MAX       4284 non-null   object\n",
      " 17  VEN_VEL       3996 non-null   object\n",
      " 18  PTO_MIN       4283 non-null   object\n",
      " 19  TEM_MAX       4291 non-null   object\n",
      " 20  TEN_BAT       4291 non-null   object\n",
      " 21  VEN_RAJ       3989 non-null   object\n",
      " 22  TEM_CPU       4291 non-null   object\n",
      " 23  TEM_INS       4291 non-null   object\n",
      " 24  UMD_INS       4284 non-null   object\n",
      " 25  CD_ESTACAO    4320 non-null   object\n",
      " 26  HR_MEDICAO    4320 non-null   object\n",
      "dtypes: object(27)\n",
      "memory usage: 911.4+ KB\n"
     ]
    }
   ],
   "source": [
    "df_test.info()"
   ]
  },
  {
   "cell_type": "code",
   "execution_count": 50,
   "metadata": {},
   "outputs": [
    {
     "data": {
      "text/plain": [
       "7140362"
      ]
     },
     "execution_count": 50,
     "metadata": {},
     "output_type": "execute_result"
    }
   ],
   "source": [
    "df_test.memory_usage(deep=True).sum()"
   ]
  },
  {
   "cell_type": "code",
   "execution_count": null,
   "metadata": {},
   "outputs": [],
   "source": [
    "connect.salvar_dados_em_um_arquivo_json(dados, 'dados_brutos_regiao_sudeste')"
   ]
  }
 ],
 "metadata": {
  "kernelspec": {
   "display_name": "venv",
   "language": "python",
   "name": "python3"
  },
  "language_info": {
   "codemirror_mode": {
    "name": "ipython",
    "version": 3
   },
   "file_extension": ".py",
   "mimetype": "text/x-python",
   "name": "python",
   "nbconvert_exporter": "python",
   "pygments_lexer": "ipython3",
   "version": "3.11.0"
  }
 },
 "nbformat": 4,
 "nbformat_minor": 2
}
