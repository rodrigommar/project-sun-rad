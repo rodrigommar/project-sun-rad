{
 "cells": [
  {
   "cell_type": "code",
   "execution_count": 3,
   "metadata": {},
   "outputs": [
    {
     "name": "stdout",
     "output_type": "stream",
     "text": [
      "https://apitempo.inmet.gov.br/token/estacao/2024-02-06/2024-02-06/A101/cFRCVjVEdWdEUXZ6cVZ6N2tmRFI1YVF1WUVmT0lTaDk=pTBV5DugDQvzqVz7kfDR5aQuYEfOISh9\n"
     ]
    }
   ],
   "source": [
    "from datetime import datetime, timedelta\n",
    "import time\n",
    "import requests\n",
    "import os\n",
    "from dotenv import load_dotenv\n",
    "import pandas as pd\n",
    "from datetime import datetime, timedelta\n",
    "\n",
    "\n",
    "class ConnectAPI:\n",
    "    \n",
    "    def __init__(self) -> None:\n",
    "        \n",
    "        self.url_base = 'https://apitempo.inmet.gov.br'\n",
    "        self.token = self.get_token()\n",
    "        \n",
    "\n",
    "\n",
    "    # obter token\n",
    "    def get_token(self):\n",
    "        \n",
    "        load_dotenv()\n",
    "        \n",
    "        token1 = os.getenv('TOKEN1')\n",
    "        token2 = os.getenv('TOKEN2')\n",
    "        \n",
    "        if token1 and token2 is not None:\n",
    "            self.token = True\n",
    "        else:\n",
    "            raise ValueError('Token não encontrado.')\n",
    "        \n",
    "        return f'{token1}={token2}'\n",
    "    \n",
    "    \n",
    "    \n",
    "    # Obter os dados de uma url\n",
    "    def get_data(self, url):\n",
    "        response = requests.get(url)\n",
    "        \n",
    "        if response.status_code == 200:\n",
    "            data = response.json()\n",
    "            \n",
    "        return data\n",
    "        \n",
    "\n",
    "\n",
    "    # obtem dados horarios baseados nos parametros\n",
    "    def get_data_hour_of_station(self, data_inicial, data_final, station):\n",
    "\n",
    "        url = f'{self.url_base}/token/estacao/{data_inicial}/{data_final}/{station}/{self.token}'\n",
    "        print(url)\n",
    "        \n",
    "        data = self.get_data(url) \n",
    "        \n",
    "        return data\n",
    "    \n",
    "\n",
    "\n",
    "    def horas_do_dia():\n",
    "        hora_inicial = datetime.strptime(\"00:00\", \"%H:%M\")\n",
    "        hora_atual = datetime.strptime(\"00:00\", \"%H:%M\")\n",
    "        horas = []\n",
    "\n",
    "        while hora_atual < hora_inicial + timedelta(hours=24):\n",
    "            horas.append(hora_atual.strftime(\"%H:%M\"))\n",
    "            hora_atual += timedelta(minutes=60)\n",
    "\n",
    "        return horas\n",
    "\n",
    "\n",
    "cnx = ConnectAPI()\n",
    "data = cnx.get_data_hour_of_station('2024-02-06', '2024-02-06', 'A101')\n",
    "df = pd.DataFrame(data)"
   ]
  },
  {
   "cell_type": "code",
   "execution_count": 10,
   "metadata": {},
   "outputs": [
    {
     "ename": "TypeError",
     "evalue": "scatter() got an unexpected keyword argument 'mode'",
     "output_type": "error",
     "traceback": [
      "\u001b[1;31m---------------------------------------------------------------------------\u001b[0m",
      "\u001b[1;31mTypeError\u001b[0m                                 Traceback (most recent call last)",
      "Cell \u001b[1;32mIn[10], line 5\u001b[0m\n\u001b[0;32m      2\u001b[0m \u001b[38;5;28;01mimport\u001b[39;00m \u001b[38;5;21;01mplotly\u001b[39;00m\u001b[38;5;21;01m.\u001b[39;00m\u001b[38;5;21;01mgraph_objs\u001b[39;00m \u001b[38;5;28;01mas\u001b[39;00m \u001b[38;5;21;01mgo\u001b[39;00m\n\u001b[0;32m      3\u001b[0m \u001b[38;5;28;01mimport\u001b[39;00m  \u001b[38;5;21;01mplotly\u001b[39;00m\u001b[38;5;21;01m.\u001b[39;00m\u001b[38;5;21;01mexpress\u001b[39;00m  \u001b[38;5;28;01mas\u001b[39;00m  \u001b[38;5;21;01mpx\u001b[39;00m\n\u001b[1;32m----> 5\u001b[0m fig  \u001b[38;5;241m=\u001b[39m  \u001b[43mpx\u001b[49m\u001b[38;5;241;43m.\u001b[39;49m\u001b[43mscatter\u001b[49m\u001b[43m(\u001b[49m\u001b[43mdf\u001b[49m\u001b[43m,\u001b[49m\u001b[43m  \u001b[49m\u001b[43mx\u001b[49m\u001b[38;5;241;43m=\u001b[39;49m\u001b[38;5;124;43m\"\u001b[39;49m\u001b[38;5;124;43mHR_MEDICAO\u001b[39;49m\u001b[38;5;124;43m\"\u001b[39;49m\u001b[43m \u001b[49m\u001b[43m,\u001b[49m\u001b[43m  \u001b[49m\u001b[43my\u001b[49m\u001b[43m \u001b[49m\u001b[38;5;241;43m=\u001b[39;49m\u001b[43m \u001b[49m\u001b[38;5;124;43m'\u001b[39;49m\u001b[38;5;124;43mRAD_GLO\u001b[39;49m\u001b[38;5;124;43m'\u001b[39;49m\u001b[43m \u001b[49m\u001b[43m,\u001b[49m\u001b[43m \u001b[49m\u001b[43mtitle\u001b[49m\u001b[43m \u001b[49m\u001b[38;5;241;43m=\u001b[39;49m\u001b[43m \u001b[49m\u001b[38;5;124;43m\"\u001b[39;49m\u001b[38;5;124;43mA Plotly Express Figure\u001b[39;49m\u001b[38;5;124;43m\"\u001b[39;49m\u001b[43m \u001b[49m\u001b[43m,\u001b[49m\u001b[43m \u001b[49m\u001b[43mmode\u001b[49m\u001b[38;5;241;43m=\u001b[39;49m\u001b[38;5;124;43m'\u001b[39;49m\u001b[38;5;124;43mline\u001b[39;49m\u001b[38;5;124;43m'\u001b[39;49m\u001b[43m)\u001b[49m \n\u001b[0;32m      6\u001b[0m fig\u001b[38;5;241m.\u001b[39mshow()\n",
      "\u001b[1;31mTypeError\u001b[0m: scatter() got an unexpected keyword argument 'mode'"
     ]
    }
   ],
   "source": [
    "from dash import dcc\n",
    "import plotly.graph_objs as go\n",
    "import  plotly.express  as  px\n",
    "\n",
    "fig  =  px.scatter(df,  x=\"HR_MEDICAO\" ,  y = 'RAD_GLO' , title = \"A Plotly Express Figure\") \n",
    "fig.show()\n"
   ]
  },
  {
   "cell_type": "code",
   "execution_count": null,
   "metadata": {},
   "outputs": [],
   "source": [
    "def montar_grafico(df, value_grandeza):\n",
    "    if df is not None:\n",
    "        trace = go.Scatter(\n",
    "            x=df[\"HR_MEDICAO\"],\n",
    "            y=df[value_grandeza],\n",
    "            mode='lines'\n",
    "        )\n",
    "        \n",
    "\n",
    "        layout = go.Layout(\n",
    "            title= f'Gráfico de {value_grandeza}',\n",
    "            xaxis={'title': \"HR_MEDICAO\"},\n",
    "            yaxis={'title': value_grandeza},\n",
    "        )\n",
    "        \n",
    "\n",
    "        return {'data':[trace], 'layout':layout}\n",
    "    return {'data':[]}\n"
   ]
  },
  {
   "cell_type": "code",
   "execution_count": 6,
   "metadata": {},
   "outputs": [],
   "source": [
    "trace = go.Scatter(\n",
    "            x=df[\"HR_MEDICAO\"],\n",
    "            y=df['RAD_GLO'],\n",
    "            mode='lines'\n",
    "        )\n",
    "        "
   ]
  },
  {
   "cell_type": "code",
   "execution_count": 7,
   "metadata": {},
   "outputs": [],
   "source": [
    "layout = go.Layout(\n",
    "            title= f'Gráfico de RADIACAO',\n",
    "            xaxis={'title': \"HR_MEDICAO\"},\n",
    "            yaxis={'title': 'RADIACAO'},\n",
    "        )"
   ]
  },
  {
   "cell_type": "code",
   "execution_count": null,
   "metadata": {},
   "outputs": [],
   "source": [
    "dcc.Graph(id=\"graph\", config={\"displayModeBar\": False})"
   ]
  }
 ],
 "metadata": {
  "kernelspec": {
   "display_name": "venv",
   "language": "python",
   "name": "python3"
  },
  "language_info": {
   "codemirror_mode": {
    "name": "ipython",
    "version": 3
   },
   "file_extension": ".py",
   "mimetype": "text/x-python",
   "name": "python",
   "nbconvert_exporter": "python",
   "pygments_lexer": "ipython3",
   "version": "3.11.0"
  }
 },
 "nbformat": 4,
 "nbformat_minor": 2
}
